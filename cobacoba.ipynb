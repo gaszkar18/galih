{
 "cells": [
  {
   "cell_type": "code",
   "execution_count": 3,
   "id": "3d675470",
   "metadata": {},
   "outputs": [],
   "source": [
    "import pandas as pd\n",
    "import spotipy \n",
    "from spotipy.oauth2 import SpotifyClientCredentials\n",
    "\n",
    "sp = spotipy.Spotify(auth_manager=SpotifyClientCredentials(client_id=\"c7fda53ffccb4ab0b86f8d8a747f04c3\",\n",
    "                                                           client_secret=\"05af511f7dfe4889b7e74e526e6464c4\"))\n",
    "\n"
   ]
  },
  {
   "cell_type": "code",
   "execution_count": 4,
   "id": "063c5c12",
   "metadata": {
    "scrolled": true
   },
   "outputs": [],
   "source": [
    "df = pd.read_csv('C:\\\\Users\\\\gaszk\\\\Documents\\\\KAR\\\\SKRIPSHIT\\\\data\\\\data_skripsi.csv')\n"
   ]
  },
  {
   "cell_type": "code",
   "execution_count": 5,
   "id": "9d265d35",
   "metadata": {},
   "outputs": [
    {
     "data": {
      "text/html": [
       "<div>\n",
       "<style scoped>\n",
       "    .dataframe tbody tr th:only-of-type {\n",
       "        vertical-align: middle;\n",
       "    }\n",
       "\n",
       "    .dataframe tbody tr th {\n",
       "        vertical-align: top;\n",
       "    }\n",
       "\n",
       "    .dataframe thead th {\n",
       "        text-align: right;\n",
       "    }\n",
       "</style>\n",
       "<table border=\"1\" class=\"dataframe\">\n",
       "  <thead>\n",
       "    <tr style=\"text-align: right;\">\n",
       "      <th></th>\n",
       "      <th>Unnamed: 0</th>\n",
       "      <th>danceability</th>\n",
       "      <th>energy</th>\n",
       "      <th>speechiness</th>\n",
       "      <th>acousticness</th>\n",
       "      <th>instrumentalness</th>\n",
       "      <th>liveness</th>\n",
       "      <th>valence</th>\n",
       "      <th>tempo</th>\n",
       "    </tr>\n",
       "  </thead>\n",
       "  <tbody>\n",
       "    <tr>\n",
       "      <th>108</th>\n",
       "      <td>75</td>\n",
       "      <td>0.576</td>\n",
       "      <td>0.733</td>\n",
       "      <td>0.0288</td>\n",
       "      <td>0.00135</td>\n",
       "      <td>0.000215</td>\n",
       "      <td>0.1070</td>\n",
       "      <td>0.551</td>\n",
       "      <td>150.120</td>\n",
       "    </tr>\n",
       "    <tr>\n",
       "      <th>70</th>\n",
       "      <td>37</td>\n",
       "      <td>0.620</td>\n",
       "      <td>0.610</td>\n",
       "      <td>0.0373</td>\n",
       "      <td>0.00849</td>\n",
       "      <td>0.162000</td>\n",
       "      <td>0.2050</td>\n",
       "      <td>0.235</td>\n",
       "      <td>127.052</td>\n",
       "    </tr>\n",
       "    <tr>\n",
       "      <th>52</th>\n",
       "      <td>19</td>\n",
       "      <td>0.659</td>\n",
       "      <td>0.615</td>\n",
       "      <td>0.0644</td>\n",
       "      <td>0.27000</td>\n",
       "      <td>0.000000</td>\n",
       "      <td>0.1870</td>\n",
       "      <td>0.193</td>\n",
       "      <td>119.843</td>\n",
       "    </tr>\n",
       "    <tr>\n",
       "      <th>99</th>\n",
       "      <td>66</td>\n",
       "      <td>0.674</td>\n",
       "      <td>0.622</td>\n",
       "      <td>0.0746</td>\n",
       "      <td>0.57700</td>\n",
       "      <td>0.000046</td>\n",
       "      <td>0.1050</td>\n",
       "      <td>0.284</td>\n",
       "      <td>126.070</td>\n",
       "    </tr>\n",
       "    <tr>\n",
       "      <th>48</th>\n",
       "      <td>15</td>\n",
       "      <td>0.640</td>\n",
       "      <td>0.533</td>\n",
       "      <td>0.0706</td>\n",
       "      <td>0.11900</td>\n",
       "      <td>0.000000</td>\n",
       "      <td>0.0864</td>\n",
       "      <td>0.515</td>\n",
       "      <td>99.968</td>\n",
       "    </tr>\n",
       "    <tr>\n",
       "      <th>7</th>\n",
       "      <td>7</td>\n",
       "      <td>0.556</td>\n",
       "      <td>0.864</td>\n",
       "      <td>0.0584</td>\n",
       "      <td>0.00958</td>\n",
       "      <td>0.000000</td>\n",
       "      <td>0.2090</td>\n",
       "      <td>0.400</td>\n",
       "      <td>105.143</td>\n",
       "    </tr>\n",
       "    <tr>\n",
       "      <th>59</th>\n",
       "      <td>26</td>\n",
       "      <td>0.620</td>\n",
       "      <td>0.864</td>\n",
       "      <td>0.1140</td>\n",
       "      <td>0.03230</td>\n",
       "      <td>0.000000</td>\n",
       "      <td>0.1170</td>\n",
       "      <td>0.395</td>\n",
       "      <td>98.059</td>\n",
       "    </tr>\n",
       "    <tr>\n",
       "      <th>61</th>\n",
       "      <td>28</td>\n",
       "      <td>0.725</td>\n",
       "      <td>0.853</td>\n",
       "      <td>0.0516</td>\n",
       "      <td>0.30500</td>\n",
       "      <td>0.000000</td>\n",
       "      <td>0.1150</td>\n",
       "      <td>0.707</td>\n",
       "      <td>134.991</td>\n",
       "    </tr>\n",
       "    <tr>\n",
       "      <th>17</th>\n",
       "      <td>17</td>\n",
       "      <td>0.705</td>\n",
       "      <td>0.830</td>\n",
       "      <td>0.0403</td>\n",
       "      <td>0.22500</td>\n",
       "      <td>0.146000</td>\n",
       "      <td>0.1200</td>\n",
       "      <td>0.460</td>\n",
       "      <td>128.061</td>\n",
       "    </tr>\n",
       "    <tr>\n",
       "      <th>126</th>\n",
       "      <td>93</td>\n",
       "      <td>0.533</td>\n",
       "      <td>0.744</td>\n",
       "      <td>0.0575</td>\n",
       "      <td>0.46000</td>\n",
       "      <td>0.003460</td>\n",
       "      <td>0.5420</td>\n",
       "      <td>0.261</td>\n",
       "      <td>175.017</td>\n",
       "    </tr>\n",
       "  </tbody>\n",
       "</table>\n",
       "</div>"
      ],
      "text/plain": [
       "     Unnamed: 0  danceability  energy  speechiness  acousticness  \\\n",
       "108          75         0.576   0.733       0.0288       0.00135   \n",
       "70           37         0.620   0.610       0.0373       0.00849   \n",
       "52           19         0.659   0.615       0.0644       0.27000   \n",
       "99           66         0.674   0.622       0.0746       0.57700   \n",
       "48           15         0.640   0.533       0.0706       0.11900   \n",
       "7             7         0.556   0.864       0.0584       0.00958   \n",
       "59           26         0.620   0.864       0.1140       0.03230   \n",
       "61           28         0.725   0.853       0.0516       0.30500   \n",
       "17           17         0.705   0.830       0.0403       0.22500   \n",
       "126          93         0.533   0.744       0.0575       0.46000   \n",
       "\n",
       "     instrumentalness  liveness  valence    tempo  \n",
       "108          0.000215    0.1070    0.551  150.120  \n",
       "70           0.162000    0.2050    0.235  127.052  \n",
       "52           0.000000    0.1870    0.193  119.843  \n",
       "99           0.000046    0.1050    0.284  126.070  \n",
       "48           0.000000    0.0864    0.515   99.968  \n",
       "7            0.000000    0.2090    0.400  105.143  \n",
       "59           0.000000    0.1170    0.395   98.059  \n",
       "61           0.000000    0.1150    0.707  134.991  \n",
       "17           0.146000    0.1200    0.460  128.061  \n",
       "126          0.003460    0.5420    0.261  175.017  "
      ]
     },
     "execution_count": 5,
     "metadata": {},
     "output_type": "execute_result"
    }
   ],
   "source": [
    "df.sample(10)"
   ]
  },
  {
   "cell_type": "code",
   "execution_count": 3,
   "id": "c2c2e1c5",
   "metadata": {},
   "outputs": [],
   "source": [
    "# Importing Modules untuk Notebook ini\n",
    "import umap.umap_ as umap, numpy as np, matplotlib.pyplot as plt, pandas as pd, seaborn as sns\n",
    "import tau_unsup as tau\n",
    "from sklearn import cluster, datasets\n",
    "from sklearn.metrics import silhouette_score as siluet\n",
    "from sklearn.metrics.cluster import homogeneity_score as purity\n",
    "from sklearn.metrics import normalized_mutual_info_score as NMI \n",
    "\n",
    "sns.set(style=\"ticks\", color_codes=True)\n",
    "random_state = 99"
   ]
  },
  {
   "cell_type": "code",
   "execution_count": 10,
   "id": "400ec8bb",
   "metadata": {},
   "outputs": [
    {
     "name": "stdout",
     "output_type": "stream",
     "text": [
      "(133, 8)\n"
     ]
    },
    {
     "data": {
      "text/html": [
       "<div>\n",
       "<style scoped>\n",
       "    .dataframe tbody tr th:only-of-type {\n",
       "        vertical-align: middle;\n",
       "    }\n",
       "\n",
       "    .dataframe tbody tr th {\n",
       "        vertical-align: top;\n",
       "    }\n",
       "\n",
       "    .dataframe thead th {\n",
       "        text-align: right;\n",
       "    }\n",
       "</style>\n",
       "<table border=\"1\" class=\"dataframe\">\n",
       "  <thead>\n",
       "    <tr style=\"text-align: right;\">\n",
       "      <th></th>\n",
       "      <th>danceability</th>\n",
       "      <th>energy</th>\n",
       "      <th>speechiness</th>\n",
       "      <th>acousticness</th>\n",
       "      <th>instrumentalness</th>\n",
       "      <th>liveness</th>\n",
       "      <th>valence</th>\n",
       "      <th>tempo</th>\n",
       "    </tr>\n",
       "  </thead>\n",
       "  <tbody>\n",
       "    <tr>\n",
       "      <th>77</th>\n",
       "      <td>0.762</td>\n",
       "      <td>0.665</td>\n",
       "      <td>0.0471</td>\n",
       "      <td>0.16900</td>\n",
       "      <td>0.000000</td>\n",
       "      <td>0.1030</td>\n",
       "      <td>0.961</td>\n",
       "      <td>115.946</td>\n",
       "    </tr>\n",
       "    <tr>\n",
       "      <th>64</th>\n",
       "      <td>0.623</td>\n",
       "      <td>0.850</td>\n",
       "      <td>0.0334</td>\n",
       "      <td>0.00832</td>\n",
       "      <td>0.023700</td>\n",
       "      <td>0.2890</td>\n",
       "      <td>0.707</td>\n",
       "      <td>134.978</td>\n",
       "    </tr>\n",
       "    <tr>\n",
       "      <th>50</th>\n",
       "      <td>0.725</td>\n",
       "      <td>0.834</td>\n",
       "      <td>0.0370</td>\n",
       "      <td>0.07840</td>\n",
       "      <td>0.000013</td>\n",
       "      <td>0.0834</td>\n",
       "      <td>0.859</td>\n",
       "      <td>120.026</td>\n",
       "    </tr>\n",
       "    <tr>\n",
       "      <th>8</th>\n",
       "      <td>0.617</td>\n",
       "      <td>0.635</td>\n",
       "      <td>0.0317</td>\n",
       "      <td>0.04980</td>\n",
       "      <td>0.000014</td>\n",
       "      <td>0.1640</td>\n",
       "      <td>0.446</td>\n",
       "      <td>103.019</td>\n",
       "    </tr>\n",
       "    <tr>\n",
       "      <th>84</th>\n",
       "      <td>0.640</td>\n",
       "      <td>0.525</td>\n",
       "      <td>0.0557</td>\n",
       "      <td>0.03130</td>\n",
       "      <td>0.000000</td>\n",
       "      <td>0.3350</td>\n",
       "      <td>0.376</td>\n",
       "      <td>88.067</td>\n",
       "    </tr>\n",
       "    <tr>\n",
       "      <th>6</th>\n",
       "      <td>0.748</td>\n",
       "      <td>0.524</td>\n",
       "      <td>0.0338</td>\n",
       "      <td>0.41400</td>\n",
       "      <td>0.000000</td>\n",
       "      <td>0.1110</td>\n",
       "      <td>0.661</td>\n",
       "      <td>95.010</td>\n",
       "    </tr>\n",
       "    <tr>\n",
       "      <th>81</th>\n",
       "      <td>0.828</td>\n",
       "      <td>0.592</td>\n",
       "      <td>0.0447</td>\n",
       "      <td>0.14200</td>\n",
       "      <td>0.008090</td>\n",
       "      <td>0.0812</td>\n",
       "      <td>0.547</td>\n",
       "      <td>116.025</td>\n",
       "    </tr>\n",
       "  </tbody>\n",
       "</table>\n",
       "</div>"
      ],
      "text/plain": [
       "    danceability  energy  speechiness  acousticness  instrumentalness  \\\n",
       "77         0.762   0.665       0.0471       0.16900          0.000000   \n",
       "64         0.623   0.850       0.0334       0.00832          0.023700   \n",
       "50         0.725   0.834       0.0370       0.07840          0.000013   \n",
       "8          0.617   0.635       0.0317       0.04980          0.000014   \n",
       "84         0.640   0.525       0.0557       0.03130          0.000000   \n",
       "6          0.748   0.524       0.0338       0.41400          0.000000   \n",
       "81         0.828   0.592       0.0447       0.14200          0.008090   \n",
       "\n",
       "    liveness  valence    tempo  \n",
       "77    0.1030    0.961  115.946  \n",
       "64    0.2890    0.707  134.978  \n",
       "50    0.0834    0.859  120.026  \n",
       "8     0.1640    0.446  103.019  \n",
       "84    0.3350    0.376   88.067  \n",
       "6     0.1110    0.661   95.010  \n",
       "81    0.0812    0.547  116.025  "
      ]
     },
     "execution_count": 10,
     "metadata": {},
     "output_type": "execute_result"
    }
   ],
   "source": [
    "X = df[['danceability','energy','speechiness','acousticness','instrumentalness','liveness','valence','tempo']].values\n",
    "#C = df['species'].values\n",
    "print(X.shape)\n",
    "df.sample(7)"
   ]
  },
  {
   "cell_type": "code",
   "execution_count": 13,
   "id": "61e39a3f",
   "metadata": {},
   "outputs": [
    {
     "name": "stderr",
     "output_type": "stream",
     "text": [
      "C:\\ProgramData\\Anaconda3\\lib\\site-packages\\seaborn\\_decorators.py:36: FutureWarning: Pass the following variable as a keyword arg: x. From version 0.12, the only valid positional argument will be `data`, and passing other arguments without an explicit keyword will result in an error or misinterpretation.\n",
      "  warnings.warn(\n"
     ]
    },
    {
     "data": {
      "image/png": "[encoded data removed]",
      "text/plain": [
       "<Figure size 432x288 with 1 Axes>"
      ]
     },
     "metadata": {},
     "output_type": "display_data"
    }
   ],
   "source": [
    "# k-means: http://scikit-learn.org/stable/modules/generated/sklearn.cluster.KMeans.html#sklearn.cluster.KMeans\n",
    "# Hapus \"random_state = random_state\" jika ingin melihat efek randomized centroid.\n",
    "k = 3\n",
    "km = cluster.KMeans(n_clusters=k, init='random', max_iter=300, tol=0.0001, \n",
    "                    random_state = 99)\n",
    "km.fit(X)\n",
    "# Hasil clusteringnya\n",
    "C_km = km.predict(X)\n",
    "p= sns.countplot(C_km)"
   ]
  },
  {
   "cell_type": "code",
   "execution_count": null,
   "id": "29549353",
   "metadata": {},
   "outputs": [],
   "source": [
    "km.inertia_"
   ]
  },
  {
   "cell_type": "code",
   "execution_count": 12,
   "id": "f768205b",
   "metadata": {},
   "outputs": [
    {
     "data": {
      "text/plain": [
       "Text(0.5, 1.0, 'Elbow curve')"
      ]
     },
     "execution_count": 12,
     "metadata": {},
     "output_type": "execute_result"
    },
    {
     "data": {
      "image/png": "[encoded data removed]",
      "text/plain": [
       "<Figure size 432x288 with 1 Axes>"
      ]
     },
     "metadata": {},
     "output_type": "display_data"
    }
   ],
   "source": [
    "distorsions, k1, kN = [], 2, 10\n",
    "for k in range(k1, kN):\n",
    "    kmeans = cluster.KMeans(n_clusters=k).fit(X)\n",
    "    distorsions.append(kmeans.inertia_)\n",
    "j#fig = plt.figure(figsize=(15, 5))\n",
    "plt.plot(range(k1, kN), distorsions); plt.grid(True)\n",
    "plt.title('Elbow curve')"
   ]
  },
  {
   "cell_type": "code",
   "execution_count": 19,
   "id": "e23c31b2",
   "metadata": {},
   "outputs": [
    {
     "data": {
      "image/png": "[encoded data removed]",
      "text/plain": [
       "<Figure size 432x288 with 1 Axes>"
      ]
     },
     "metadata": {},
     "output_type": "display_data"
    }
   ],
   "source": [
    "X2D = umap.UMAP(n_neighbors=3, min_dist=0.3, random_state=random_state).fit_transform(X)\n",
    "fig, ax = plt.subplots()\n",
    "ax.scatter(X2D[:,0], X2D[:,1], c=C_km)\n",
    "plt.show()"
   ]
  },
  {
   "cell_type": "code",
   "execution_count": 18,
   "id": "5c90969b",
   "metadata": {},
   "outputs": [
    {
     "name": "stderr",
     "output_type": "stream",
     "text": [
      "C:\\ProgramData\\Anaconda3\\lib\\site-packages\\seaborn\\_decorators.py:36: FutureWarning: Pass the following variable as a keyword arg: x. From version 0.12, the only valid positional argument will be `data`, and passing other arguments without an explicit keyword will result in an error or misinterpretation.\n",
      "  warnings.warn(\n"
     ]
    },
    {
     "data": {
      "image/png": "[encoded data removed]",
      "text/plain": [
       "<Figure size 432x288 with 1 Axes>"
      ]
     },
     "metadata": {},
     "output_type": "display_data"
    }
   ],
   "source": [
    "# k-means: http://scikit-learn.org/stable/modules/generated/sklearn.cluster.KMeans.html#sklearn.cluster.KMeans\n",
    "# Hapus \"random_state = random_state\" jika ingin melihat efek randomized centroid.\n",
    "kk = 4\n",
    "km = cluster.KMeans(n_clusters=kk, init='random', max_iter=300, tol=0.0001, \n",
    "                    random_state = 99)\n",
    "km.fit(X)\n",
    "# Hasil clusteringnya\n",
    "C_km = km.predict(X)\n",
    "p= sns.countplot(C_km)"
   ]
  },
  {
   "cell_type": "code",
   "execution_count": 20,
   "id": "98833416",
   "metadata": {},
   "outputs": [
    {
     "data": {
      "image/png": "[encoded data removed]",
      "text/plain": [
       "<Figure size 432x288 with 1 Axes>"
      ]
     },
     "metadata": {},
     "output_type": "display_data"
    }
   ],
   "source": [
    "X2D = umap.UMAP(n_neighbors=4, min_dist=0.3, random_state=random_state).fit_transform(X)\n",
    "fig, ax = plt.subplots()\n",
    "ax.scatter(X2D[:,0], X2D[:,1], c=C_km)\n",
    "plt.show()"
   ]
  },
  {
   "cell_type": "code",
   "execution_count": 24,
   "id": "47b82e02",
   "metadata": {},
   "outputs": [],
   "source": [
    "df.to_csv('C:\\\\Users\\\\gaszk\\\\Documents\\\\KAR\\\\SKRIPSHIT\\\\data\\\\data_skripsi.csv')"
   ]
  },
  {
   "cell_type": "code",
   "execution_count": 1,
   "id": "c61ccf09",
   "metadata": {},
   "outputs": [
    {
     "ename": "NameError",
     "evalue": "name 'df' is not defined",
     "output_type": "error",
     "traceback": [
      "\u001b[1;31m---------------------------------------------------------------------------\u001b[0m",
      "\u001b[1;31mNameError\u001b[0m                                 Traceback (most recent call last)",
      "\u001b[1;32m<ipython-input-1-17bfc97c9424>\u001b[0m in \u001b[0;36m<module>\u001b[1;34m\u001b[0m\n\u001b[1;32m----> 1\u001b[1;33m \u001b[0mdf\u001b[0m\u001b[1;33m.\u001b[0m\u001b[0msample\u001b[0m\u001b[1;33m(\u001b[0m\u001b[1;36m10\u001b[0m\u001b[1;33m)\u001b[0m\u001b[1;33m\u001b[0m\u001b[1;33m\u001b[0m\u001b[0m\n\u001b[0m",
      "\u001b[1;31mNameError\u001b[0m: name 'df' is not defined"
     ]
    }
   ],
   "source": [
    "df.sample(10)"
   ]
  },
  {
   "cell_type": "code",
   "execution_count": null,
   "id": "f594b560",
   "metadata": {},
   "outputs": [],
   "source": []
  }
 ],
 "metadata": {
  "kernelspec": {
   "display_name": "Python 3",
   "language": "python",
   "name": "python3"
  },
  "language_info": {
   "codemirror_mode": {
    "name": "ipython",
    "version": 3
   },
   "file_extension": ".py",
   "mimetype": "text/x-python",
   "name": "python",
   "nbconvert_exporter": "python",
   "pygments_lexer": "ipython3",
   "version": "3.8.8"
  }
 },
 "nbformat": 4,
 "nbformat_minor": 5
}
